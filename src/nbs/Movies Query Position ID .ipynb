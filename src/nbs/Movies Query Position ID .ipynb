{
 "cells": [
  {
   "cell_type": "code",
   "execution_count": 3,
   "id": "38a5144b",
   "metadata": {},
   "outputs": [],
   "source": [
    "import os\n",
    "os.environ[\"DJANGO_ALLOW_ASYNC_UNSAFE\"] = \"true\"\n"
   ]
  },
  {
   "cell_type": "code",
   "execution_count": 5,
   "id": "e835ded7",
   "metadata": {},
   "outputs": [
    {
     "name": "stdout",
     "output_type": "stream",
     "text": [
      "0 1 1\n",
      "1 2 1\n"
     ]
    }
   ],
   "source": [
    "from movies.models import Movie\n"
   ]
  },
  {
   "cell_type": "code",
   "execution_count": 6,
   "id": "06c33ea2",
   "metadata": {},
   "outputs": [
    {
     "name": "stdout",
     "output_type": "stream",
     "text": [
      "0 1 1\n",
      "1 2 1\n",
      "2 3 1\n",
      "3 4 1\n",
      "4 5 1\n",
      "5 6 1\n",
      "6 7 1\n",
      "7 8 1\n",
      "8 9 1\n",
      "9 10 1\n",
      "10 11 1\n",
      "11 12 1\n",
      "12 13 1\n",
      "13 14 1\n",
      "14 15 1\n",
      "15 16 1\n",
      "16 17 1\n",
      "17 22 5\n",
      "18 23 5\n",
      "19 24 5\n"
     ]
    }
   ],
   "source": [
    "qs =Movie.objects.order_by('id')[:20]\n",
    "\n"
   ]
  },
  {
   "cell_type": "code",
   "execution_count": 7,
   "id": "724f87b2",
   "metadata": {},
   "outputs": [],
   "source": [
    "from django.db.models import Window, F"
   ]
  },
  {
   "cell_type": "code",
   "execution_count": 9,
   "id": "ed446916",
   "metadata": {},
   "outputs": [],
   "source": [
    "from django.db.models.functions import DenseRank\n"
   ]
  },
  {
   "cell_type": "code",
   "execution_count": 17,
   "id": "0a1ab767",
   "metadata": {},
   "outputs": [
    {
     "name": "stdout",
     "output_type": "stream",
     "text": [
      "position: 0    old index:  1     new index: 1      delta:1\n",
      "position: 1    old index:  2     new index: 2      delta:1\n",
      "position: 2    old index:  3     new index: 3      delta:1\n",
      "position: 3    old index:  4     new index: 4      delta:1\n",
      "position: 4    old index:  5     new index: 5      delta:1\n",
      "position: 5    old index:  6     new index: 6      delta:1\n",
      "position: 6    old index:  7     new index: 7      delta:1\n",
      "position: 7    old index:  8     new index: 8      delta:1\n",
      "position: 8    old index:  9     new index: 9      delta:1\n",
      "position: 9    old index:  10     new index: 10      delta:1\n",
      "position: 10    old index:  11     new index: 11      delta:1\n",
      "position: 11    old index:  12     new index: 12      delta:1\n",
      "position: 12    old index:  13     new index: 13      delta:1\n",
      "position: 13    old index:  14     new index: 14      delta:1\n",
      "position: 14    old index:  15     new index: 15      delta:1\n",
      "position: 15    old index:  16     new index: 16      delta:1\n",
      "position: 16    old index:  17     new index: 17      delta:1\n",
      "position: 17    old index:  22     new index: 18      delta:1\n",
      "position: 18    old index:  23     new index: 19      delta:1\n",
      "position: 19    old index:  24     new index: 20      delta:1\n",
      "position: 20    old index:  25     new index: 21      delta:1\n",
      "position: 21    old index:  26     new index: 22      delta:1\n",
      "position: 22    old index:  27     new index: 23      delta:1\n",
      "position: 23    old index:  28     new index: 24      delta:1\n",
      "position: 24    old index:  29     new index: 25      delta:1\n",
      "position: 25    old index:  30     new index: 26      delta:1\n",
      "position: 26    old index:  31     new index: 27      delta:1\n",
      "position: 27    old index:  32     new index: 28      delta:1\n",
      "position: 28    old index:  33     new index: 29      delta:1\n",
      "position: 29    old index:  34     new index: 30      delta:1\n",
      "position: 30    old index:  35     new index: 31      delta:1\n",
      "position: 31    old index:  36     new index: 32      delta:1\n",
      "position: 32    old index:  37     new index: 33      delta:1\n",
      "position: 33    old index:  38     new index: 34      delta:1\n",
      "position: 34    old index:  39     new index: 35      delta:1\n",
      "position: 35    old index:  40     new index: 36      delta:1\n",
      "position: 36    old index:  41     new index: 37      delta:1\n",
      "position: 37    old index:  42     new index: 38      delta:1\n",
      "position: 38    old index:  43     new index: 39      delta:1\n",
      "position: 39    old index:  44     new index: 40      delta:1\n",
      "position: 40    old index:  45     new index: 41      delta:1\n",
      "position: 41    old index:  46     new index: 42      delta:1\n",
      "position: 42    old index:  47     new index: 43      delta:1\n",
      "position: 43    old index:  48     new index: 44      delta:1\n",
      "position: 44    old index:  49     new index: 45      delta:1\n",
      "position: 45    old index:  50     new index: 46      delta:1\n",
      "position: 46    old index:  51     new index: 47      delta:1\n",
      "position: 47    old index:  52     new index: 48      delta:1\n",
      "position: 48    old index:  53     new index: 49      delta:1\n",
      "position: 49    old index:  54     new index: 50      delta:1\n",
      "position: 50    old index:  55     new index: 51      delta:1\n",
      "position: 51    old index:  56     new index: 52      delta:1\n",
      "position: 52    old index:  57     new index: 53      delta:1\n",
      "position: 53    old index:  58     new index: 54      delta:1\n",
      "position: 54    old index:  59     new index: 55      delta:1\n",
      "position: 55    old index:  60     new index: 56      delta:1\n",
      "position: 56    old index:  61     new index: 57      delta:1\n",
      "position: 57    old index:  62     new index: 58      delta:1\n",
      "position: 58    old index:  63     new index: 59      delta:1\n",
      "position: 59    old index:  64     new index: 60      delta:1\n",
      "position: 60    old index:  65     new index: 61      delta:1\n",
      "position: 61    old index:  66     new index: 62      delta:1\n",
      "position: 62    old index:  67     new index: 63      delta:1\n",
      "position: 63    old index:  68     new index: 64      delta:1\n",
      "position: 64    old index:  69     new index: 65      delta:1\n",
      "position: 65    old index:  70     new index: 66      delta:1\n",
      "position: 66    old index:  71     new index: 67      delta:1\n",
      "position: 67    old index:  72     new index: 68      delta:1\n",
      "position: 68    old index:  73     new index: 69      delta:1\n",
      "position: 69    old index:  74     new index: 70      delta:1\n",
      "position: 70    old index:  75     new index: 71      delta:1\n",
      "position: 71    old index:  76     new index: 72      delta:1\n",
      "position: 72    old index:  77     new index: 73      delta:1\n",
      "position: 73    old index:  78     new index: 74      delta:1\n",
      "position: 74    old index:  79     new index: 75      delta:1\n",
      "position: 75    old index:  80     new index: 76      delta:1\n",
      "position: 76    old index:  81     new index: 77      delta:1\n",
      "position: 77    old index:  82     new index: 78      delta:1\n",
      "position: 78    old index:  83     new index: 79      delta:1\n",
      "position: 79    old index:  84     new index: 80      delta:1\n",
      "position: 80    old index:  85     new index: 81      delta:1\n",
      "position: 81    old index:  86     new index: 82      delta:1\n",
      "position: 82    old index:  87     new index: 83      delta:1\n",
      "position: 83    old index:  88     new index: 84      delta:1\n",
      "position: 84    old index:  89     new index: 85      delta:1\n",
      "position: 85    old index:  90     new index: 86      delta:1\n",
      "position: 86    old index:  92     new index: 87      delta:1\n",
      "position: 87    old index:  93     new index: 88      delta:1\n",
      "position: 88    old index:  94     new index: 89      delta:1\n",
      "position: 89    old index:  95     new index: 90      delta:1\n",
      "position: 90    old index:  96     new index: 91      delta:1\n",
      "position: 91    old index:  97     new index: 92      delta:1\n",
      "position: 92    old index:  98     new index: 93      delta:1\n",
      "position: 93    old index:  99     new index: 94      delta:1\n",
      "position: 94    old index:  100     new index: 95      delta:1\n",
      "position: 95    old index:  101     new index: 96      delta:1\n",
      "position: 96    old index:  102     new index: 97      delta:1\n",
      "position: 97    old index:  103     new index: 98      delta:1\n",
      "position: 98    old index:  104     new index: 99      delta:1\n",
      "position: 99    old index:  105     new index: 100      delta:1\n"
     ]
    }
   ],
   "source": [
    "qs = Movie.objects.all().annotate(new_index=Window(expression=DenseRank(), order_by=[F('id').asc()])\n",
    "                                 ).annotate(idx = F('new_index')-1)\n",
    "\n",
    "for i, obj in enumerate(qs[:100]):\n",
    "    print(f\"position: {i}    old index:  {obj.id}     new index: {obj.new_index}  final:{obj.idx}    delta:{obj.new_index-i}\")"
   ]
  },
  {
   "cell_type": "code",
   "execution_count": null,
   "id": "959fcaca",
   "metadata": {},
   "outputs": [],
   "source": []
  }
 ],
 "metadata": {
  "kernelspec": {
   "display_name": "Django Kernel",
   "language": "python",
   "name": "django_extensions"
  },
  "language_info": {
   "codemirror_mode": {
    "name": "ipython",
    "version": 3
   },
   "file_extension": ".py",
   "mimetype": "text/x-python",
   "name": "python",
   "nbconvert_exporter": "python",
   "pygments_lexer": "ipython3",
   "version": "3.11.3"
  }
 },
 "nbformat": 4,
 "nbformat_minor": 5
}
