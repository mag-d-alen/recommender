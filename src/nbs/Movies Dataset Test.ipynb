{
 "cells": [
  {
   "cell_type": "code",
   "execution_count": 3,
   "id": "a996fee6",
   "metadata": {},
   "outputs": [
    {
     "data": {
      "text/plain": [
       "<MovieQuerySet [{'title': 'Toy Story', 'release_date': datetime.datetime(1995, 10, 30, 0, 0, tzinfo=datetime.timezone.utc), 'rating_avg': Decimal('3.96'), 'rating_count': 252}, {'title': 'Jumanji', 'release_date': datetime.datetime(1995, 12, 15, 0, 0, tzinfo=datetime.timezone.utc), 'rating_avg': Decimal('3.20'), 'rating_count': 5}, {'title': 'Grumpier Old Men', 'release_date': datetime.datetime(1995, 12, 22, 0, 0, tzinfo=datetime.timezone.utc), 'rating_avg': Decimal('3.25'), 'rating_count': 4}, {'title': 'Waiting to Exhale', 'release_date': datetime.datetime(1995, 12, 22, 0, 0, tzinfo=datetime.timezone.utc), 'rating_avg': Decimal('2.75'), 'rating_count': 16}, {'title': 'Father of the Bride Part II', 'release_date': datetime.datetime(1995, 2, 10, 0, 0, tzinfo=datetime.timezone.utc), 'rating_avg': Decimal('2.00'), 'rating_count': 4}, {'title': 'Heat', 'release_date': datetime.datetime(1995, 12, 15, 0, 0, tzinfo=datetime.timezone.utc), 'rating_avg': Decimal('3.50'), 'rating_count': 4}, {'title': 'Sabrina', 'release_date': datetime.datetime(1995, 12, 15, 0, 0, tzinfo=datetime.timezone.utc), 'rating_avg': Decimal('3.39'), 'rating_count': 57}, {'title': 'Tom and Huck', 'release_date': datetime.datetime(1995, 12, 22, 0, 0, tzinfo=datetime.timezone.utc), 'rating_avg': Decimal('3.64'), 'rating_count': 11}, {'title': 'Sudden Death', 'release_date': datetime.datetime(1995, 12, 22, 0, 0, tzinfo=datetime.timezone.utc), 'rating_avg': Decimal('3.00'), 'rating_count': 23}, {'title': 'GoldenEye', 'release_date': datetime.datetime(1995, 11, 16, 0, 0, tzinfo=datetime.timezone.utc), 'rating_avg': Decimal('3.56'), 'rating_count': 126}, {'title': 'The American President', 'release_date': datetime.datetime(1995, 11, 17, 0, 0, tzinfo=datetime.timezone.utc), 'rating_avg': Decimal('2.86'), 'rating_count': 7}, {'title': 'Dracula: Dead and Loving It', 'release_date': datetime.datetime(1995, 12, 22, 0, 0, tzinfo=datetime.timezone.utc), 'rating_avg': Decimal('1.67'), 'rating_count': 3}, {'title': 'Balto', 'release_date': datetime.datetime(1995, 12, 22, 0, 0, tzinfo=datetime.timezone.utc), 'rating_avg': Decimal('3.40'), 'rating_count': 5}, {'title': 'Nixon', 'release_date': datetime.datetime(1995, 12, 22, 0, 0, tzinfo=datetime.timezone.utc), 'rating_avg': Decimal('4.67'), 'rating_count': 3}, {'title': 'Cutthroat Island', 'release_date': datetime.datetime(1995, 12, 22, 0, 0, tzinfo=datetime.timezone.utc), 'rating_avg': Decimal('3.40'), 'rating_count': 5}, {'title': 'Casino', 'release_date': datetime.datetime(1995, 11, 22, 0, 0, tzinfo=datetime.timezone.utc), 'rating_avg': Decimal('2.67'), 'rating_count': 3}, {'title': 'Sense and Sensibility', 'release_date': datetime.datetime(1995, 12, 13, 0, 0, tzinfo=datetime.timezone.utc), 'rating_avg': Decimal('3.67'), 'rating_count': 3}, {'title': 'Copycat', 'release_date': datetime.datetime(1995, 10, 27, 0, 0, tzinfo=datetime.timezone.utc), 'rating_avg': Decimal('2.00'), 'rating_count': 1}, {'title': 'Assassins', 'release_date': datetime.datetime(1995, 10, 6, 0, 0, tzinfo=datetime.timezone.utc), 'rating_avg': Decimal('3.21'), 'rating_count': 28}, {'title': 'Powder', 'release_date': datetime.datetime(1995, 10, 27, 0, 0, tzinfo=datetime.timezone.utc), 'rating_avg': Decimal('3.33'), 'rating_count': 3}, '...(remaining elements truncated)...']>"
      ]
     },
     "execution_count": 3,
     "metadata": {},
     "output_type": "execute_result"
    }
   ],
   "source": [
    "import os\n",
    "os.environ[\"DJANGO_ALLOW_ASYNC_UNSAFE\"] = \"true\"\n",
    "from movies.models import Movie \n",
    "qs = Movie.objects.all().values(\"title\", 'release_date',\"rating_avg\", \"rating_count\")\n",
    "qs"
   ]
  },
  {
   "cell_type": "code",
   "execution_count": null,
   "id": "d9f45ee9",
   "metadata": {},
   "outputs": [],
   "source": [
    "import pandas as pd\n",
    "df = pd.DataFrame(qs)\n",
    "df.head(n=10)"
   ]
  },
  {
   "cell_type": "code",
   "execution_count": null,
   "id": "be346999",
   "metadata": {},
   "outputs": [],
   "source": []
  }
 ],
 "metadata": {
  "kernelspec": {
   "display_name": "Django Kernel",
   "language": "python",
   "name": "django_extensions"
  },
  "language_info": {
   "codemirror_mode": {
    "name": "ipython",
    "version": 3
   },
   "file_extension": ".py",
   "mimetype": "text/x-python",
   "name": "python",
   "nbconvert_exporter": "python",
   "pygments_lexer": "ipython3",
   "version": "3.11.3"
  }
 },
 "nbformat": 4,
 "nbformat_minor": 5
}
