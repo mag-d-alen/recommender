{
 "cells": [
  {
   "cell_type": "code",
   "execution_count": null,
   "id": "0a02f65a",
   "metadata": {},
   "outputs": [],
   "source": []
  },
  {
   "cell_type": "code",
   "execution_count": null,
   "id": "84f8bdba",
   "metadata": {},
   "outputs": [],
   "source": [
    "\n"
   ]
  },
  {
   "cell_type": "code",
   "execution_count": null,
   "id": "b244afb1",
   "metadata": {},
   "outputs": [],
   "source": [
    "\n"
   ]
  },
  {
   "cell_type": "code",
   "execution_count": null,
   "id": "3b0af9e4",
   "metadata": {},
   "outputs": [],
   "source": [
    "from movies.models import Movie\n",
    "\n",
    "qs = Movie.objects.all().values(\"title\", 'release_date',\"rating_avg\", \"rating_count\")\n",
    "qs"
   ]
  },
  {
   "cell_type": "code",
   "execution_count": null,
   "id": "a75b8eb2",
   "metadata": {},
   "outputs": [],
   "source": []
  },
  {
   "cell_type": "code",
   "execution_count": 1,
   "id": "f4ca0a1f",
   "metadata": {},
   "outputs": [],
   "source": [
    "from movies.models import Movie"
   ]
  },
  {
   "cell_type": "code",
   "execution_count": 3,
   "id": "a996fee6",
   "metadata": {},
   "outputs": [
    {
     "data": {
      "text/plain": [
       "<MovieQuerySet [{'title': 'Ariel', 'release_date': datetime.datetime(1988, 10, 21, 0, 0, tzinfo=datetime.timezone.utc), 'rating_avg': None, 'rating_count': 0}, {'title': 'Shadows in Paradise', 'release_date': datetime.datetime(1986, 10, 16, 0, 0, tzinfo=datetime.timezone.utc), 'rating_avg': None, 'rating_count': 0}, {'title': 'Four Rooms', 'release_date': datetime.datetime(1995, 12, 9, 0, 0, tzinfo=datetime.timezone.utc), 'rating_avg': Decimal('5.00'), 'rating_count': 1}, {'title': 'Judgment Night', 'release_date': datetime.datetime(1993, 10, 15, 0, 0, tzinfo=datetime.timezone.utc), 'rating_avg': None, 'rating_count': 0}, {'title': 'Star Wars', 'release_date': datetime.datetime(1977, 5, 25, 0, 0, tzinfo=datetime.timezone.utc), 'rating_avg': Decimal('5.00'), 'rating_count': 1}, {'title': 'Finding Nemo', 'release_date': datetime.datetime(2003, 5, 30, 0, 0, tzinfo=datetime.timezone.utc), 'rating_avg': None, 'rating_count': 0}, {'title': 'Forrest Gump', 'release_date': datetime.datetime(1994, 7, 6, 0, 0, tzinfo=datetime.timezone.utc), 'rating_avg': None, 'rating_count': 0}, {'title': 'American Beauty', 'release_date': datetime.datetime(1999, 9, 15, 0, 0, tzinfo=datetime.timezone.utc), 'rating_avg': None, 'rating_count': 0}, {'title': 'Citizen Kane', 'release_date': datetime.datetime(1941, 4, 30, 0, 0, tzinfo=datetime.timezone.utc), 'rating_avg': Decimal('5.00'), 'rating_count': 1}, {'title': 'Dancer in the Dark', 'release_date': datetime.datetime(2000, 5, 17, 0, 0, tzinfo=datetime.timezone.utc), 'rating_avg': None, 'rating_count': 0}, {'title': 'The Dark', 'release_date': datetime.datetime(2006, 1, 26, 0, 0, tzinfo=datetime.timezone.utc), 'rating_avg': None, 'rating_count': 0}, {'title': 'The Fifth Element', 'release_date': datetime.datetime(1997, 5, 7, 0, 0, tzinfo=datetime.timezone.utc), 'rating_avg': None, 'rating_count': 0}, {'title': 'Metropolis', 'release_date': datetime.datetime(1927, 1, 10, 0, 0, tzinfo=datetime.timezone.utc), 'rating_avg': None, 'rating_count': 0}, {'title': 'My Life Without Me', 'release_date': datetime.datetime(2003, 3, 7, 0, 0, tzinfo=datetime.timezone.utc), 'rating_avg': None, 'rating_count': 0}, {'title': 'The Endless Summer', 'release_date': datetime.datetime(1966, 6, 15, 0, 0, tzinfo=datetime.timezone.utc), 'rating_avg': None, 'rating_count': 0}, {'title': 'Pirates of the Caribbean: The Curse of the Black Pearl', 'release_date': datetime.datetime(2003, 7, 9, 0, 0, tzinfo=datetime.timezone.utc), 'rating_avg': Decimal('2.00'), 'rating_count': 1}, {'title': 'Kill Bill: Vol. 1', 'release_date': datetime.datetime(2003, 10, 10, 0, 0, tzinfo=datetime.timezone.utc), 'rating_avg': None, 'rating_count': 0}, {'title': 'Jarhead', 'release_date': datetime.datetime(2005, 11, 4, 0, 0, tzinfo=datetime.timezone.utc), 'rating_avg': None, 'rating_count': 0}, {'title': 'Walk on Water', 'release_date': datetime.datetime(2004, 2, 5, 0, 0, tzinfo=datetime.timezone.utc), 'rating_avg': None, 'rating_count': 0}, {'title': '9 Songs', 'release_date': datetime.datetime(2004, 7, 16, 0, 0, tzinfo=datetime.timezone.utc), 'rating_avg': None, 'rating_count': 0}, '...(remaining elements truncated)...']>"
      ]
     },
     "execution_count": 3,
     "metadata": {},
     "output_type": "execute_result"
    }
   ],
   "source": [
    "qs = Movie.objects.all().values(\"title\", 'release_date',\"rating_avg\", \"rating_count\")\n",
    "qs"
   ]
  },
  {
   "cell_type": "code",
   "execution_count": 1,
   "id": "5fc54b31",
   "metadata": {
    "scrolled": true
   },
   "outputs": [
    {
     "ename": "NameError",
     "evalue": "name 'os' is not defined",
     "output_type": "error",
     "traceback": [
      "\u001b[1;31m-----------------------------------------------\u001b[0m",
      "\u001b[1;31mNameError\u001b[0m     Traceback (most recent call last)",
      "Cell \u001b[1;32mIn[1], line 1\u001b[0m\n\u001b[1;32m----> 1\u001b[0m \u001b[43mos\u001b[49m\u001b[38;5;241m.\u001b[39menviron[\u001b[38;5;124m\"\u001b[39m\u001b[38;5;124mDJANGO_ALLOW_ASYNC_UNSAFE\u001b[39m\u001b[38;5;124m\"\u001b[39m] \u001b[38;5;241m=\u001b[39m \u001b[38;5;124m\"\u001b[39m\u001b[38;5;124mtrue\u001b[39m\u001b[38;5;124m\"\u001b[39m\n",
      "\u001b[1;31mNameError\u001b[0m: name 'os' is not defined"
     ]
    }
   ],
   "source": [
    "os.environ[\"DJANGO_ALLOW_ASYNC_UNSAFE\"] = \"true\"\n"
   ]
  },
  {
   "cell_type": "code",
   "execution_count": 2,
   "id": "54f1803e",
   "metadata": {},
   "outputs": [],
   "source": [
    "import os\n",
    "os.environ[\"DJANGO_ALLOW_ASYNC_UNSAFE\"] = \"true\"\n"
   ]
  },
  {
   "cell_type": "code",
   "execution_count": 4,
   "id": "d9f45ee9",
   "metadata": {},
   "outputs": [
    {
     "data": {
      "text/html": [
       "<div>\n",
       "<style scoped>\n",
       "    .dataframe tbody tr th:only-of-type {\n",
       "        vertical-align: middle;\n",
       "    }\n",
       "\n",
       "    .dataframe tbody tr th {\n",
       "        vertical-align: top;\n",
       "    }\n",
       "\n",
       "    .dataframe thead th {\n",
       "        text-align: right;\n",
       "    }\n",
       "</style>\n",
       "<table border=\"1\" class=\"dataframe\">\n",
       "  <thead>\n",
       "    <tr style=\"text-align: right;\">\n",
       "      <th></th>\n",
       "      <th>title</th>\n",
       "      <th>release_date</th>\n",
       "      <th>rating_avg</th>\n",
       "      <th>rating_count</th>\n",
       "    </tr>\n",
       "  </thead>\n",
       "  <tbody>\n",
       "    <tr>\n",
       "      <th>0</th>\n",
       "      <td>Ariel</td>\n",
       "      <td>1988-10-21 00:00:00+00:00</td>\n",
       "      <td>None</td>\n",
       "      <td>0</td>\n",
       "    </tr>\n",
       "    <tr>\n",
       "      <th>1</th>\n",
       "      <td>Shadows in Paradise</td>\n",
       "      <td>1986-10-16 00:00:00+00:00</td>\n",
       "      <td>None</td>\n",
       "      <td>0</td>\n",
       "    </tr>\n",
       "    <tr>\n",
       "      <th>2</th>\n",
       "      <td>Four Rooms</td>\n",
       "      <td>1995-12-09 00:00:00+00:00</td>\n",
       "      <td>5.00</td>\n",
       "      <td>1</td>\n",
       "    </tr>\n",
       "    <tr>\n",
       "      <th>3</th>\n",
       "      <td>Judgment Night</td>\n",
       "      <td>1993-10-15 00:00:00+00:00</td>\n",
       "      <td>None</td>\n",
       "      <td>0</td>\n",
       "    </tr>\n",
       "    <tr>\n",
       "      <th>4</th>\n",
       "      <td>Star Wars</td>\n",
       "      <td>1977-05-25 00:00:00+00:00</td>\n",
       "      <td>5.00</td>\n",
       "      <td>1</td>\n",
       "    </tr>\n",
       "    <tr>\n",
       "      <th>5</th>\n",
       "      <td>Finding Nemo</td>\n",
       "      <td>2003-05-30 00:00:00+00:00</td>\n",
       "      <td>None</td>\n",
       "      <td>0</td>\n",
       "    </tr>\n",
       "    <tr>\n",
       "      <th>6</th>\n",
       "      <td>Forrest Gump</td>\n",
       "      <td>1994-07-06 00:00:00+00:00</td>\n",
       "      <td>None</td>\n",
       "      <td>0</td>\n",
       "    </tr>\n",
       "    <tr>\n",
       "      <th>7</th>\n",
       "      <td>American Beauty</td>\n",
       "      <td>1999-09-15 00:00:00+00:00</td>\n",
       "      <td>None</td>\n",
       "      <td>0</td>\n",
       "    </tr>\n",
       "    <tr>\n",
       "      <th>8</th>\n",
       "      <td>Citizen Kane</td>\n",
       "      <td>1941-04-30 00:00:00+00:00</td>\n",
       "      <td>5.00</td>\n",
       "      <td>1</td>\n",
       "    </tr>\n",
       "    <tr>\n",
       "      <th>9</th>\n",
       "      <td>Dancer in the Dark</td>\n",
       "      <td>2000-05-17 00:00:00+00:00</td>\n",
       "      <td>None</td>\n",
       "      <td>0</td>\n",
       "    </tr>\n",
       "  </tbody>\n",
       "</table>\n",
       "</div>"
      ],
      "text/plain": [
       "                 title              release_date rating_avg  rating_count\n",
       "0                Ariel 1988-10-21 00:00:00+00:00       None             0\n",
       "1  Shadows in Paradise 1986-10-16 00:00:00+00:00       None             0\n",
       "2           Four Rooms 1995-12-09 00:00:00+00:00       5.00             1\n",
       "3       Judgment Night 1993-10-15 00:00:00+00:00       None             0\n",
       "4            Star Wars 1977-05-25 00:00:00+00:00       5.00             1\n",
       "5         Finding Nemo 2003-05-30 00:00:00+00:00       None             0\n",
       "6         Forrest Gump 1994-07-06 00:00:00+00:00       None             0\n",
       "7      American Beauty 1999-09-15 00:00:00+00:00       None             0\n",
       "8         Citizen Kane 1941-04-30 00:00:00+00:00       5.00             1\n",
       "9   Dancer in the Dark 2000-05-17 00:00:00+00:00       None             0"
      ]
     },
     "execution_count": 4,
     "metadata": {},
     "output_type": "execute_result"
    }
   ],
   "source": [
    "import pandas as pd\n",
    "df = pd.DataFrame(qs)\n",
    "df.head(n=10)"
   ]
  },
  {
   "cell_type": "code",
   "execution_count": null,
   "id": "be346999",
   "metadata": {},
   "outputs": [],
   "source": []
  }
 ],
 "metadata": {
  "kernelspec": {
   "display_name": "Django Kernel",
   "language": "python",
   "name": "django_extensions"
  },
  "language_info": {
   "codemirror_mode": {
    "name": "ipython",
    "version": 3
   },
   "file_extension": ".py",
   "mimetype": "text/x-python",
   "name": "python",
   "nbconvert_exporter": "python",
   "pygments_lexer": "ipython3",
   "version": "3.11.3"
  }
 },
 "nbformat": 4,
 "nbformat_minor": 5
}
